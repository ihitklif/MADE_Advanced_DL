{
  "nbformat": 4,
  "nbformat_minor": 0,
  "metadata": {
    "colab": {
      "name": "RL2_task5-6.ipynb",
      "provenance": [],
      "collapsed_sections": []
    },
    "kernelspec": {
      "name": "python3",
      "display_name": "Python 3"
    }
  },
  "cells": [
    {
      "cell_type": "code",
      "metadata": {
        "colab": {
          "base_uri": "https://localhost:8080/"
        },
        "id": "98QvCkWkRyZq",
        "outputId": "599c2698-f3d8-4ee9-a56d-5179a81f70cb"
      },
      "source": [
        "import gym\n",
        "\n",
        "import matplotlib as mpl\n",
        "import matplotlib.pyplot as plt\n",
        "import seaborn as sns\n",
        "import json\n",
        "import math\n",
        "import random\n",
        "import numpy as np\n",
        "import scipy as sp\n",
        "import scipy.stats as st\n",
        "import scipy.integrate as integrate\n",
        "from scipy.stats import multivariate_normal\n",
        "from sklearn import linear_model\n",
        "from sklearn.utils.testing import ignore_warnings\n",
        "from sklearn.exceptions import ConvergenceWarning\n",
        "import statsmodels.api as sm\n",
        "from matplotlib.colors import LogNorm\n",
        "import pickle\n",
        "\n",
        "from joblib import Parallel, delayed\n",
        "import multiprocessing\n",
        "from collections import namedtuple\n",
        "from itertools import count\n",
        "\n",
        "import cProfile\n",
        "from datetime import datetime\n",
        "\n",
        "import torch\n",
        "import torch.nn as nn\n",
        "import torch.optim as optim\n",
        "import torch.nn.functional as F\n",
        "import torchvision.transforms as T\n",
        "from torch.autograd import Variable\n",
        "\n",
        "sns.set_style(\"whitegrid\")\n",
        "sns.set_palette(\"colorblind\")\n",
        "palette = sns.color_palette()\n",
        "figsize = (15,8)\n",
        "legend_fontsize = 16\n",
        "\n",
        "from matplotlib import rc\n",
        "from collections import defaultdict"
      ],
      "execution_count": null,
      "outputs": [
        {
          "output_type": "stream",
          "text": [
            "/usr/local/lib/python3.6/dist-packages/sklearn/utils/deprecation.py:144: FutureWarning: The sklearn.utils.testing module is  deprecated in version 0.22 and will be removed in version 0.24. The corresponding classes / functions should instead be imported from sklearn.utils. Anything that cannot be imported from sklearn.utils is now part of the private API.\n",
            "  warnings.warn(message, FutureWarning)\n",
            "/usr/local/lib/python3.6/dist-packages/statsmodels/tools/_testing.py:19: FutureWarning: pandas.util.testing is deprecated. Use the functions in the public API at pandas.testing instead.\n",
            "  import pandas.util.testing as tm\n"
          ],
          "name": "stderr"
        }
      ]
    },
    {
      "cell_type": "code",
      "metadata": {
        "id": "esUR_ccQR1cT"
      },
      "source": [
        "from IPython.display import clear_output"
      ],
      "execution_count": null,
      "outputs": []
    },
    {
      "cell_type": "code",
      "metadata": {
        "id": "v-o8aVItR3ZF"
      },
      "source": [
        "N_ROWS, N_COLS, N_WIN = 3, 3, 3\n",
        "\n",
        "class TicTacToe(gym.Env):\n",
        "    def __init__(self, n_rows=N_ROWS, n_cols=N_COLS, n_win=N_WIN):\n",
        "        self.n_rows = n_rows\n",
        "        self.n_cols = n_cols\n",
        "        self.n_win = n_win\n",
        "\n",
        "        self.board = np.zeros((self.n_rows, self.n_cols), dtype=int)\n",
        "        self.gameOver = False\n",
        "        self.boardHash = None\n",
        "        # ход первого игрока\n",
        "        self.curTurn = 1\n",
        "        self.emptySpaces = None\n",
        "        \n",
        "        self.reset()\n",
        "\n",
        "    def getEmptySpaces(self):\n",
        "        if self.emptySpaces is None:\n",
        "            res = np.where(self.board == 0)\n",
        "            self.emptySpaces = np.array([ (i, j) for i,j in zip(res[0], res[1]) ])\n",
        "        return self.emptySpaces\n",
        "\n",
        "    def makeMove(self, player, i, j):\n",
        "        self.board[i, j] = player\n",
        "        self.emptySpaces = None\n",
        "        self.boardHash = None\n",
        "\n",
        "    def getHash(self):\n",
        "        if self.boardHash is None:\n",
        "            self.boardHash = ''.join(['%s' % (x+1) for x in self.board.reshape(self.n_rows * self.n_cols)])\n",
        "        return self.boardHash\n",
        "\n",
        "    def isTerminal(self):\n",
        "        # проверим, не закончилась ли игра\n",
        "        cur_marks, cur_p = np.where(self.board == self.curTurn), self.curTurn\n",
        "        for i,j in zip(cur_marks[0], cur_marks[1]):\n",
        "          #print((i,j))\n",
        "            win = False\n",
        "            if i <= self.n_rows - self.n_win:\n",
        "                if np.all(self.board[i:i+self.n_win, j] == cur_p):\n",
        "                    win = True\n",
        "            if not win:\n",
        "                if j <= self.n_cols - self.n_win:\n",
        "                    if np.all(self.board[i,j:j+self.n_win] == cur_p):\n",
        "                        win = True\n",
        "            if not win:\n",
        "                if i <= self.n_rows - self.n_win and j <= self.n_cols - self.n_win:\n",
        "                    if np.all(np.array([ self.board[i+k,j+k] == cur_p for k in range(self.n_win) ])):\n",
        "                        win = True\n",
        "            if not win:\n",
        "                if i <= self.n_rows - self.n_win and j >= self.n_win-1:\n",
        "                    if np.all(np.array([ self.board[i+k,j-k] == cur_p for k in range(self.n_win) ])):\n",
        "                        win = True\n",
        "            if win:\n",
        "                self.gameOver = True\n",
        "                return self.curTurn\n",
        "\n",
        "        if len(self.getEmptySpaces()) == 0:\n",
        "            self.gameOver = True\n",
        "            return 0\n",
        "\n",
        "        self.gameOver = False\n",
        "        return None\n",
        "\n",
        "    def printBoard(self):\n",
        "        for i in range(0, self.n_rows):\n",
        "            print('----'*(self.n_cols)+'-')\n",
        "            out = '| '\n",
        "            for j in range(0, self.n_cols):\n",
        "                if self.board[i, j] == 1:\n",
        "                    token = 'x'\n",
        "                if self.board[i, j] == -1:\n",
        "                    token = 'o'\n",
        "                if self.board[i, j] == 0:\n",
        "                    token = ' '\n",
        "                out += token + ' | '\n",
        "            print(out)\n",
        "        print('----'*(self.n_cols)+'-')\n",
        "\n",
        "    def getState(self):\n",
        "        return (self.getHash(), self.getEmptySpaces(), self.curTurn)\n",
        "\n",
        "    def action_from_int(self, action_int):\n",
        "        return ( int(action_int / self.n_cols), int(action_int % self.n_cols))\n",
        "\n",
        "    def int_from_action(self, action):\n",
        "        return action[0] * self.n_cols + action[1]\n",
        "    \n",
        "    def step(self, action):\n",
        "        if self.board[action[0], action[1]] != 0:\n",
        "            return self.getState(), -10, True, {}\n",
        "        self.makeMove(self.curTurn, action[0], action[1])\n",
        "        reward = self.isTerminal()\n",
        "        self.curTurn = -self.curTurn\n",
        "        return self.getState(), 0 if reward is None else reward, reward is not None, {}\n",
        "\n",
        "    def reset(self):\n",
        "        self.board = np.zeros((self.n_rows, self.n_cols), dtype=int)\n",
        "        self.boardHash = None\n",
        "        self.gameOver = False\n",
        "        self.emptySpaces = None\n",
        "        self.curTurn = 1\n",
        "        return self.getState()\n"
      ],
      "execution_count": null,
      "outputs": []
    },
    {
      "cell_type": "code",
      "metadata": {
        "id": "NcpmHxaBR5MN"
      },
      "source": [
        "def plot_board(env, pi, showtext=True, verbose=True, fontq=20, fontx=60):\n",
        "    clear_output(wait=True)\n",
        "    '''Рисуем доску с оценками из стратегии pi'''\n",
        "    fig, ax = plt.subplots(1, 1, figsize=(8, 8))\n",
        "    X, Y = np.meshgrid(np.arange(0, env.n_rows), np.arange(0, env.n_rows))\n",
        "    Z = np.zeros((env.n_rows, env.n_cols)) + .01\n",
        "    s, actions = env.getHash(), env.getEmptySpaces()\n",
        "    if pi is not None and s in pi.Q:\n",
        "        for i, a in enumerate(actions):\n",
        "            Z[a[0], a[1]] = pi.Q[s][i]\n",
        "    ax.set_xticks([])\n",
        "    ax.set_yticks([])\n",
        "    surf = ax.imshow(Z, cmap=plt.get_cmap('Accent', 10), vmin=-1, vmax=1)\n",
        "    if showtext:\n",
        "        for i,a in enumerate(actions):\n",
        "            if pi is not None and s in pi.Q:\n",
        "                ax.text( a[1] , a[0] , \"%.3f\" % pi.Q[s][i], fontsize=fontq, horizontalalignment='center', verticalalignment='center', color=\"w\" )\n",
        "#             else:\n",
        "#                 ax.text( a[1] , a[0] , \"???\", fontsize=fontq, horizontalalignment='center', verticalalignment='center', color=\"w\" )\n",
        "    for i in range(env.n_rows):\n",
        "        for j in range(env.n_cols):\n",
        "            if env.board[i, j] == -1:\n",
        "                ax.text(j, i, \"O\", fontsize=fontx, horizontalalignment='center', verticalalignment='center', color=\"w\" )\n",
        "            if env.board[i, j] == 1:\n",
        "                ax.text(j, i, \"X\", fontsize=fontx, horizontalalignment='center', verticalalignment='center', color=\"w\" )\n",
        "    cbar = plt.colorbar(surf, ticks=[0, 1])\n",
        "    ax.grid(False)\n",
        "    plt.show()\n",
        "\n",
        "def get_and_print_move(env, pi, s, actions, random=False, verbose=True, fontq=20, fontx=60):\n",
        "    '''Делаем ход, рисуем доску'''\n",
        "    plot_board(env, pi, fontq=fontq, fontx=fontx)\n",
        "    if verbose and (pi is not None):\n",
        "        if s in pi.Q:\n",
        "            for i,a in enumerate(actions):\n",
        "                print(i, a, pi.Q[s][i])\n",
        "        else:\n",
        "            print(\"Стратегия не знает, что делать...\")\n",
        "    if random:\n",
        "        return np.random.randint(len(actions))\n",
        "    else:\n",
        "        return pi.getActionGreedy(s, len(actions))\n",
        "\n",
        "def plot_test_game(env, pi1, pi2, random_crosses=False, random_naughts=True, verbose=True, fontq=20, fontx=60):\n",
        "    '''Играем тестовую партию между стратегиями или со случайными ходами, рисуем ход игры'''\n",
        "    done = False\n",
        "    env.reset()\n",
        "    while not done:\n",
        "        s, actions = env.getHash(), env.getEmptySpaces()\n",
        "        if env.curTurn == 1:\n",
        "            a = get_and_print_move(env, pi1, s, actions, random=random_crosses, verbose=verbose, fontq=fontq, fontx=fontx)\n",
        "        else:\n",
        "            a = get_and_print_move(env, pi2, s, actions, random=random_naughts, verbose=verbose, fontq=fontq, fontx=fontx)\n",
        "        observation, reward, done, info = env.step(actions[a])\n",
        "        if reward == 1:\n",
        "            print(\"Крестики выиграли!\")\n",
        "            plot_board(env, None, showtext=False, fontq=fontq, fontx=fontx)\n",
        "        if reward == -1:\n",
        "            print(\"Нолики выиграли!\")\n",
        "            plot_board(env, None, showtext=False, fontq=fontq, fontx=fontx)\n",
        "            "
      ],
      "execution_count": null,
      "outputs": []
    },
    {
      "cell_type": "code",
      "metadata": {
        "colab": {
          "base_uri": "https://localhost:8080/",
          "height": 470
        },
        "id": "xRbeG2ZnSXdt",
        "outputId": "b588157d-9975-4b4a-a614-36ec5e404669"
      },
      "source": [
        "env = TicTacToe(n_rows=3, n_cols=3, n_win=3)\n",
        "plot_test_game(env, None, None, random_crosses=True, random_naughts=True, verbose=True, fontx=30)"
      ],
      "execution_count": null,
      "outputs": [
        {
          "output_type": "display_data",
          "data": {
            "image/png": "[encoded data removed]",
            "text/plain": [
              "<Figure size 576x576 with 2 Axes>"
            ]
          },
          "metadata": {
            "tags": []
          }
        }
      ]
    },
    {
      "cell_type": "code",
      "metadata": {
        "id": "MhUmojuTSauS"
      },
      "source": [
        "from IPython.display import clear_output\n",
        "\n",
        "import pandas as pd\n",
        "import matplotlib.pyplot as plt\n",
        "%matplotlib inline\n",
        "\n",
        "import random\n",
        "from IPython.display import clear_output"
      ],
      "execution_count": null,
      "outputs": []
    },
    {
      "cell_type": "markdown",
      "metadata": {
        "id": "0632NnnXS528"
      },
      "source": [
        "#### 5. Реализуйте rollouts со случайной стратегией \n"
      ]
    },
    {
      "cell_type": "code",
      "metadata": {
        "id": "4Pqnft5WTLAZ"
      },
      "source": [
        "from copy import deepcopy\n",
        "\n",
        "def rollout(env, random_strategy=True, max_depth=None, play_as_crosses=True):\n",
        "    \n",
        "    env = deepcopy(env)\n",
        "    done = env.isTerminal() is not None\n",
        "    \n",
        "    while not done:\n",
        "        action = random.choice(env.emptySpaces)\n",
        "        _, reward, done, _ = env.step(action)\n",
        "        \n",
        "    # inverse\n",
        "    if play_as_crosses == False:\n",
        "        reward = -reward\n",
        "    return reward\n",
        "\n",
        "def random_policy(env):\n",
        "    return env.random_available_action()"
      ],
      "execution_count": null,
      "outputs": []
    },
    {
      "cell_type": "code",
      "metadata": {
        "colab": {
          "base_uri": "https://localhost:8080/"
        },
        "id": "4gTmbpgOTK9n",
        "outputId": "148069e4-1176-416c-ef25-c5ac903ab1ca"
      },
      "source": [
        "env = TicTacToe(3, 3, 3)\n",
        "\n",
        "env.reset()\n",
        "print(rollout(env, random_policy, random_policy))\n",
        "\n",
        "env.reset()\n",
        "print(rollout(env, random_policy, random_policy))\n",
        "\n",
        "env.reset()\n",
        "print(rollout(env, random_policy, random_policy))"
      ],
      "execution_count": null,
      "outputs": [
        {
          "output_type": "stream",
          "text": [
            "1\n",
            "1\n",
            "1\n"
          ],
          "name": "stdout"
        }
      ]
    },
    {
      "cell_type": "code",
      "metadata": {
        "colab": {
          "base_uri": "https://localhost:8080/"
        },
        "id": "VxEgJnhuTK7I",
        "outputId": "5840f177-1a43-467b-9198-ba478acae62a"
      },
      "source": [
        "env.reset()\n",
        "\n",
        "env.step([1,1])\n",
        "env.step([1,2]) \n",
        "env.step([2,1])\n",
        "env.step([0,1]) \n",
        "\n",
        "env.board"
      ],
      "execution_count": null,
      "outputs": [
        {
          "output_type": "execute_result",
          "data": {
            "text/plain": [
              "array([[ 0, -1,  0],\n",
              "       [ 0,  1, -1],\n",
              "       [ 0,  1,  0]])"
            ]
          },
          "metadata": {
            "tags": []
          },
          "execution_count": 12
        }
      ]
    },
    {
      "cell_type": "code",
      "metadata": {
        "colab": {
          "base_uri": "https://localhost:8080/"
        },
        "id": "PczftfyWT5j7",
        "outputId": "bde88b0a-9df5-4efb-ebaf-e14b8bfbeb78"
      },
      "source": [
        "np.mean([rollout(env) for _ in range(10_000)])"
      ],
      "execution_count": null,
      "outputs": [
        {
          "output_type": "execute_result",
          "data": {
            "text/plain": [
              "0.4699"
            ]
          },
          "metadata": {
            "tags": []
          },
          "execution_count": 13
        }
      ]
    },
    {
      "cell_type": "markdown",
      "metadata": {
        "id": "GL1YAL8TUdXD"
      },
      "source": [
        "#### 6.Реализуйте MCTS-поиск \n",
        "\n",
        "С этими rollouts для крестиков-ноликов на досках разного размера, сравните полученные стратегии между собой и со стратегиями, обученными в первых двух частях.\n"
      ]
    },
    {
      "cell_type": "code",
      "metadata": {
        "colab": {
          "base_uri": "https://localhost:8080/"
        },
        "id": "TBt9vHnPU82n",
        "outputId": "0a818296-7298-4834-de54-054c03fcb782"
      },
      "source": [
        "_ = env.reset()\n",
        "\n",
        "env.step([0,0])\n",
        "env.step([0,1])\n",
        "\n",
        "env.step([1,2])\n",
        "env.step([1,1])\n",
        "\n",
        "env.step([2,1])\n",
        "env.step([0,2])\n",
        "\n",
        "env.board"
      ],
      "execution_count": null,
      "outputs": [
        {
          "output_type": "execute_result",
          "data": {
            "text/plain": [
              "array([[ 1, -1, -1],\n",
              "       [ 0, -1,  1],\n",
              "       [ 0,  1,  0]])"
            ]
          },
          "metadata": {
            "tags": []
          },
          "execution_count": 14
        }
      ]
    },
    {
      "cell_type": "code",
      "metadata": {
        "id": "GZsZNOgzV7ga"
      },
      "source": [
        "from copy import deepcopy\n",
        "from math import log, sqrt\n",
        "\n",
        "class MCTSNode:\n",
        "    def __init__(self, env=None):\n",
        "        self.env = deepcopy(env)\n",
        "        \n",
        "        self.parent = None\n",
        "        self.children = []\n",
        "        \n",
        "        self.terminal = False\n",
        "        self.visited = False\n",
        "        \n",
        "        self.N = 0\n",
        "        self.R = 0\n",
        "        \n",
        "    def search(self):\n",
        "        if self.terminal:\n",
        "            self.N += 1\n",
        "            return -self.reward\n",
        "        \n",
        "        if not self.visited:\n",
        "            self.visited = True\n",
        "            self.reward = rollout(self.env)\n",
        "            \n",
        "            \n",
        "            self.R = (self.R * self.N + self.reward) / (self.N + 1)\n",
        "            self.N += 1\n",
        "            \n",
        "            return self.reward\n",
        "        \n",
        "        if len(self.children) == 0:\n",
        "            for action in self.env.emptySpaces:\n",
        "                new_env = deepcopy(env)\n",
        "                s, r, d, _ = new_env.step(action)\n",
        "                new_node = MCTSNode(new_env)\n",
        "                new_node.parent = self \n",
        "                new_node.action = action\n",
        "                self.children.append(new_node)\n",
        "                if d:\n",
        "                    new_node.terminal = True\n",
        "                    new_node.reward = r\n",
        "                    \n",
        "            v = self.children[0].search()\n",
        "            self.R = (self.R * self.N + v) / (self.N + 1)\n",
        "            self.N += 1\n",
        "            return v"
      ],
      "execution_count": null,
      "outputs": []
    },
    {
      "cell_type": "code",
      "metadata": {
        "colab": {
          "base_uri": "https://localhost:8080/"
        },
        "id": "ABxy8O9iYCC1",
        "outputId": "390f5dfd-114f-4a85-bbbb-bca4bdf3c050"
      },
      "source": [
        "env = TicTacToe(3, 3, 3)\n",
        "\n",
        "_ = env.reset()\n",
        "\n",
        "env.step([0,0])\n",
        "env.step([0,1])\n",
        "\n",
        "env.step([1,2])\n",
        "env.step([1,1])\n",
        "\n",
        "env.step([2,1])\n",
        "env.step([0,2])\n",
        "\n",
        "env.board"
      ],
      "execution_count": null,
      "outputs": [
        {
          "output_type": "execute_result",
          "data": {
            "text/plain": [
              "array([[ 1, -1, -1],\n",
              "       [ 0, -1,  1],\n",
              "       [ 0,  1,  0]])"
            ]
          },
          "metadata": {
            "tags": []
          },
          "execution_count": 23
        }
      ]
    },
    {
      "cell_type": "code",
      "metadata": {
        "id": "peHzyoALYchJ"
      },
      "source": [
        "mcts = MCTSNode(env)"
      ],
      "execution_count": null,
      "outputs": []
    },
    {
      "cell_type": "code",
      "metadata": {
        "id": "v3aIIdCsYOPG"
      },
      "source": [
        "mcts = MCTSNode(env)\n",
        "for _ in range(200):\n",
        "    mcts.search()"
      ],
      "execution_count": null,
      "outputs": []
    },
    {
      "cell_type": "code",
      "metadata": {
        "colab": {
          "base_uri": "https://localhost:8080/"
        },
        "id": "TllM3KZX-VmQ",
        "outputId": "d922485f-3465-484f-aa85-dbcd2f8a2d32"
      },
      "source": [
        "max(mcts.children, key=lambda x: x.N).action"
      ],
      "execution_count": null,
      "outputs": [
        {
          "output_type": "execute_result",
          "data": {
            "text/plain": [
              "array([1, 0])"
            ]
          },
          "metadata": {
            "tags": []
          },
          "execution_count": 26
        }
      ]
    },
    {
      "cell_type": "code",
      "metadata": {
        "colab": {
          "base_uri": "https://localhost:8080/"
        },
        "id": "WHhIMk21Zzv3",
        "outputId": "e74f7f7e-36c5-4228-ec2d-f43473cfbaeb"
      },
      "source": [
        "min(mcts.children, key=lambda x: x.N).action"
      ],
      "execution_count": null,
      "outputs": [
        {
          "output_type": "execute_result",
          "data": {
            "text/plain": [
              "array([2, 0])"
            ]
          },
          "metadata": {
            "tags": []
          },
          "execution_count": 29
        }
      ]
    },
    {
      "cell_type": "code",
      "metadata": {
        "id": "ttK5oJmAcS2R",
        "colab": {
          "base_uri": "https://localhost:8080/"
        },
        "outputId": "b7a6d489-719b-4178-fa63-45a085558f9f"
      },
      "source": [
        "env.board"
      ],
      "execution_count": null,
      "outputs": [
        {
          "output_type": "execute_result",
          "data": {
            "text/plain": [
              "array([[ 1, -1, -1],\n",
              "       [ 0, -1,  1],\n",
              "       [ 1,  1,  0]])"
            ]
          },
          "metadata": {
            "tags": []
          },
          "execution_count": 32
        }
      ]
    },
    {
      "cell_type": "code",
      "metadata": {
        "id": "hoJDDca3LOUM"
      },
      "source": [
        "def find_ind(ar, value):\n",
        "    for i, el in enumerate(ar):\n",
        "        if sum(el == value) == 2: return i\n",
        "    return -1"
      ],
      "execution_count": null,
      "outputs": []
    },
    {
      "cell_type": "code",
      "metadata": {
        "id": "9-VMOIu1CwkF"
      },
      "source": [
        "def get_and_print_move(env, pi, s, actions, random=False, verbose=True, fontq=20, fontx=60):\n",
        "    '''Делаем ход, рисуем доску'''\n",
        "    #plot_board(env, pi, fontq=fontq, fontx=fontx)\n",
        "    mcts = MCTSNode(env)\n",
        "    for _ in range(100):\n",
        "        mcts.search()\n",
        "    if verbose and (pi is not None):\n",
        "        if s in pi.Q:\n",
        "            for i,a in enumerate(actions):\n",
        "                print(i, a, pi.Q[s][i])\n",
        "        else:\n",
        "            print(\"Стратегия не знает, что делать...\")\n",
        "    if random:\n",
        "        return np.random.randint(len(actions))\n",
        "    else:\n",
        "        val = max(mcts.children, key=lambda x: x.N).action\n",
        "        print(val)\n",
        "        return find_ind(actions, val)\n",
        "\n",
        "def plot_test_game(env, pi1, pi2, random_crosses=False, random_naughts=True, verbose=True, fontq=20, fontx=60):\n",
        "    '''Играем тестовую партию между стратегиями или со случайными ходами, рисуем ход игры'''\n",
        "    done = False\n",
        "    env.reset()\n",
        "    while not done:\n",
        "        s, actions = env.getHash(), env.getEmptySpaces()\n",
        "        if env.curTurn == 1:\n",
        "            a = get_and_print_move(env, pi1, s, actions, random=random_crosses, verbose=verbose, fontq=fontq, fontx=fontx)\n",
        "        else:\n",
        "            a = get_and_print_move(env, pi2, s, actions, random=random_naughts, verbose=verbose, fontq=fontq, fontx=fontx)\n",
        "        observation, reward, done, info = env.step(actions[a])\n",
        "        if reward == 1:\n",
        "            print(\"Крестики выиграли!\")\n",
        "            plot_board(env, None, showtext=False, fontq=fontq, fontx=fontx)\n",
        "        if reward == -1:\n",
        "            print(\"Нолики выиграли!\")\n",
        "            plot_board(env, None, showtext=False, fontq=fontq, fontx=fontx)\n",
        "    print(reward)\n",
        "    return reward"
      ],
      "execution_count": null,
      "outputs": []
    },
    {
      "cell_type": "code",
      "metadata": {
        "colab": {
          "base_uri": "https://localhost:8080/"
        },
        "id": "4FwL5YI8NAVj",
        "outputId": "a1546ac8-ff1a-41a2-be43-fbbfcea02839"
      },
      "source": [
        "val = min(mcts.children, key=lambda x: x.N).action\n",
        "val"
      ],
      "execution_count": null,
      "outputs": [
        {
          "output_type": "execute_result",
          "data": {
            "text/plain": [
              "array([2, 0])"
            ]
          },
          "metadata": {
            "tags": []
          },
          "execution_count": 66
        }
      ]
    },
    {
      "cell_type": "code",
      "metadata": {
        "id": "j36zv7yAE8n7"
      },
      "source": [
        "from tqdm import tqdm\n",
        "\n",
        "rew = []\n",
        "\n",
        "for _ in tqdm(range(1000)):\n",
        "    env = TicTacToe(n_rows=3, n_cols=3, n_win=3)\n",
        "    rew.append(plot_test_game(env, None, None, random_crosses=False, fontx=30))"
      ],
      "execution_count": null,
      "outputs": []
    },
    {
      "cell_type": "code",
      "metadata": {
        "colab": {
          "base_uri": "https://localhost:8080/"
        },
        "id": "iNssfAXPElIc",
        "outputId": "08f13cb2-ad7f-49d3-f49a-821baca8b860"
      },
      "source": [
        "np.mean(rew)"
      ],
      "execution_count": null,
      "outputs": [
        {
          "output_type": "execute_result",
          "data": {
            "text/plain": [
              "0.63"
            ]
          },
          "metadata": {
            "tags": []
          },
          "execution_count": 90
        }
      ]
    },
    {
      "cell_type": "markdown",
      "metadata": {
        "id": "Wj_jFLMbt-Sz"
      },
      "source": [
        "MCTS себя показал хуже (скорее всего, из-за небольшого числа симуляций для события, при этом он работает значительно проще, чем другие алгоритмы). При этом для больших досок требует много памяти для симуляции"
      ]
    },
    {
      "cell_type": "code",
      "metadata": {
        "id": "N--k1bAkvsHa"
      },
      "source": [
        ""
      ],
      "execution_count": null,
      "outputs": []
    }
  ]
}