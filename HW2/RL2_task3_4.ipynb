{
  "nbformat": 4,
  "nbformat_minor": 0,
  "metadata": {
    "colab": {
      "name": "RL2_task3-4.ipynb",
      "provenance": [],
      "collapsed_sections": []
    },
    "kernelspec": {
      "name": "python3",
      "display_name": "Python 3"
    }
  },
  "cells": [
    {
      "cell_type": "code",
      "metadata": {
        "colab": {
          "base_uri": "https://localhost:8080/"
        },
        "id": "3afz82gDFtJK",
        "outputId": "d0f00939-78a8-4f0f-f688-aa9f7202a69b"
      },
      "source": [
        "import gym\n",
        "\n",
        "import matplotlib as mpl\n",
        "import matplotlib.pyplot as plt\n",
        "import seaborn as sns\n",
        "import json\n",
        "import math\n",
        "import random\n",
        "import numpy as np\n",
        "import scipy as sp\n",
        "import scipy.stats as st\n",
        "import scipy.integrate as integrate\n",
        "from scipy.stats import multivariate_normal\n",
        "from sklearn import linear_model\n",
        "from sklearn.utils.testing import ignore_warnings\n",
        "from sklearn.exceptions import ConvergenceWarning\n",
        "import statsmodels.api as sm\n",
        "from matplotlib.colors import LogNorm\n",
        "import pickle\n",
        "\n",
        "from joblib import Parallel, delayed\n",
        "import multiprocessing\n",
        "from collections import namedtuple\n",
        "from itertools import count\n",
        "\n",
        "import cProfile\n",
        "from datetime import datetime\n",
        "\n",
        "import torch\n",
        "import torch.nn as nn\n",
        "import torch.optim as optim\n",
        "import torch.nn.functional as F\n",
        "import torchvision.transforms as T\n",
        "from torch.autograd import Variable\n",
        "\n",
        "sns.set_style(\"whitegrid\")\n",
        "sns.set_palette(\"colorblind\")\n",
        "palette = sns.color_palette()\n",
        "figsize = (15,8)\n",
        "legend_fontsize = 16\n",
        "\n",
        "from matplotlib import rc\n",
        "from collections import defaultdict"
      ],
      "execution_count": 1,
      "outputs": [
        {
          "output_type": "stream",
          "text": [
            "/usr/local/lib/python3.6/dist-packages/sklearn/utils/deprecation.py:144: FutureWarning: The sklearn.utils.testing module is  deprecated in version 0.22 and will be removed in version 0.24. The corresponding classes / functions should instead be imported from sklearn.utils. Anything that cannot be imported from sklearn.utils is now part of the private API.\n",
            "  warnings.warn(message, FutureWarning)\n",
            "/usr/local/lib/python3.6/dist-packages/statsmodels/tools/_testing.py:19: FutureWarning: pandas.util.testing is deprecated. Use the functions in the public API at pandas.testing instead.\n",
            "  import pandas.util.testing as tm\n"
          ],
          "name": "stderr"
        }
      ]
    },
    {
      "cell_type": "code",
      "metadata": {
        "id": "FZ0jESw1GHhg"
      },
      "source": [
        "from IPython.display import clear_output"
      ],
      "execution_count": 2,
      "outputs": []
    },
    {
      "cell_type": "code",
      "metadata": {
        "id": "0T0Wv6g4H3so"
      },
      "source": [
        "from tqdm import tqdm"
      ],
      "execution_count": 3,
      "outputs": []
    },
    {
      "cell_type": "code",
      "metadata": {
        "id": "t2mXqkbTG5Jt"
      },
      "source": [
        "class ReplayMemory():\n",
        "    def __init__(self, capacity):\n",
        "        self.capacity = capacity\n",
        "        self.memory = []\n",
        "        self.position = 0\n",
        "\n",
        "    def store(self, exptuple):\n",
        "        if len(self.memory) < self.capacity:\n",
        "            self.memory.append(None)\n",
        "        self.memory[self.position] = exptuple\n",
        "        self.position = (self.position + 1) % self.capacity\n",
        "       \n",
        "    def sample(self, batch_size):\n",
        "        return random.sample(self.memory, batch_size)\n",
        "    \n",
        "    def __len__(self):\n",
        "        return len(self.memory)"
      ],
      "execution_count": 4,
      "outputs": []
    },
    {
      "cell_type": "markdown",
      "metadata": {
        "id": "Z7scdUfJtMbC"
      },
      "source": [
        "Обновленная версия TicTacToe"
      ]
    },
    {
      "cell_type": "code",
      "metadata": {
        "id": "TtbWRwxdGJGm"
      },
      "source": [
        "N_ROWS, N_COLS, N_WIN = 3, 3, 3\n",
        "\n",
        "class TicTacToe(gym.Env):\n",
        "    def __init__(self, board_size):\n",
        "        self.board_size = board_size\n",
        "        self.n_rows = board_size\n",
        "        self.n_cols = board_size\n",
        "        self.n_win = board_size\n",
        "\n",
        "        self.board = np.zeros((self.n_rows, self.n_cols), dtype=int)\n",
        "        self.gameOver = False\n",
        "        self.boardHash = None\n",
        "        self.n_turns = 0\n",
        "        # ход первого игрока\n",
        "        self.curTurn = 1\n",
        "        self.emptySpaces = None\n",
        "        self.actions = self.getEmptySpaces().tolist()\n",
        "\n",
        "        self.reset()\n",
        "\n",
        "    def getEmptySpaces(self):\n",
        "        if self.emptySpaces is None:\n",
        "            res = np.where(self.board == 0)\n",
        "            self.emptySpaces = np.array([ (i, j) for i,j in zip(res[0], res[1]) ])\n",
        "        return self.emptySpaces\n",
        "\n",
        "    def makeMove(self, player, i, j):\n",
        "        self.board[i, j] = player\n",
        "        self.emptySpaces = None\n",
        "        self.boardHash = None\n",
        "\n",
        "    def getHash(self):\n",
        "        if self.boardHash is None:\n",
        "            self.boardHash = ''.join(['%s' % (x+1) for x in self.board.reshape(self.n_rows * self.n_cols)])\n",
        "        return self.boardHash\n",
        "\n",
        "    def isTerminal(self):\n",
        "        # проверим, не закончилась ли игра\n",
        "        cur_marks, cur_p = np.where(self.board == self.curTurn), self.curTurn\n",
        "        for i,j in zip(cur_marks[0], cur_marks[1]):\n",
        "          #print((i,j))\n",
        "            win = False\n",
        "            if i <= self.n_rows - self.n_win:\n",
        "                if np.all(self.board[i:i+self.n_win, j] == cur_p):\n",
        "                    win = True\n",
        "            if not win:\n",
        "                if j <= self.n_cols - self.n_win:\n",
        "                    if np.all(self.board[i,j:j+self.n_win] == cur_p):\n",
        "                        win = True\n",
        "            if not win:\n",
        "                if i <= self.n_rows - self.n_win and j <= self.n_cols - self.n_win:\n",
        "                    if np.all(np.array([ self.board[i+k,j+k] == cur_p for k in range(self.n_win) ])):\n",
        "                        win = True\n",
        "            if not win:\n",
        "                if i <= self.n_rows - self.n_win and j >= self.n_win-1:\n",
        "                    if np.all(np.array([ self.board[i+k,j-k] == cur_p for k in range(self.n_win) ])):\n",
        "                        win = True\n",
        "            if win:\n",
        "                self.gameOver = True\n",
        "                return self.curTurn\n",
        "\n",
        "        if len(self.getEmptySpaces()) == 0:\n",
        "            self.gameOver = True\n",
        "            return 0\n",
        "\n",
        "        self.gameOver = False\n",
        "        return None\n",
        "\n",
        "    def printBoard(self):\n",
        "        for i in range(0, self.n_rows):\n",
        "            print('----'*(self.n_cols)+'-')\n",
        "            out = '| '\n",
        "            for j in range(0, self.n_cols):\n",
        "                if self.board[i, j] == 1:\n",
        "                    token = 'x'\n",
        "                if self.board[i, j] == -1:\n",
        "                    token = 'o'\n",
        "                if self.board[i, j] == 0:\n",
        "                    token = ' '\n",
        "                out += token + ' | '\n",
        "            print(out)\n",
        "        print('----'*(self.n_cols)+'-')\n",
        "\n",
        "    def getState(self):\n",
        "        return (self.getHash(), self.getEmptySpaces(), self.curTurn)\n",
        "\n",
        "    def action_from_int(self, action_int):\n",
        "        return ( int(action_int / self.n_cols), int(action_int % self.n_cols))\n",
        "\n",
        "    def int_from_action(self, action):\n",
        "        return action[0] * self.n_cols + action[1]\n",
        "    \n",
        "    def step(self, action):\n",
        "        if self.board[action[0], action[1]] != 0:\n",
        "            return self.getState(), -10, True, {}\n",
        "        self.makeMove(self.curTurn, action[0], action[1])\n",
        "        reward = self.isTerminal()\n",
        "        self.curTurn = -self.curTurn\n",
        "        return self.getState(), 0 if reward is None else reward, reward is not None, {}\n",
        "\n",
        "    def reset(self):\n",
        "        self.board = np.zeros((self.n_rows, self.n_cols), dtype=int)\n",
        "        self.boardHash = None\n",
        "        self.gameOver = False\n",
        "        self.emptySpaces = None\n",
        "        self.curTurn = 1\n",
        "        return self.getState()\n",
        "\n",
        "    def step_random(self, action_index):\n",
        "        state, reward, done, info =\\\n",
        "                self.step(self.actions[action_index])\n",
        "        self.n_turns += 1\n",
        "        \n",
        "        if not done:\n",
        "            rand_actions = self.getEmptySpaces()\n",
        "            rand_action = random.choice(rand_actions)\n",
        "            _, _, done, _ = self.step(rand_action)\n",
        "            self.n_turns += 1\n",
        "            \n",
        "            if done:\n",
        "                # we lost\n",
        "                return self.board, -1, True, info\n",
        "            else:\n",
        "                # play further\n",
        "                return self.board, 0, False, {}\n",
        "            \n",
        "        else:\n",
        "            if reward == -10:\n",
        "                # wrong move\n",
        "                return self.board, -10, True, info\n",
        "            else:\n",
        "                if self.n_turns == self.board_size * self.board_size:\n",
        "                    # draw\n",
        "                    return self.board, -0.5, True, info\n",
        "                else:\n",
        "                    # we won\n",
        "                    return self.board, 1, True, info\n",
        "        \n",
        "    def reset_rand(self):\n",
        "        self.n_turns = 0\n",
        "        self.done = None\n",
        "        self.reset()\n",
        "        return self.board, 0, False, {}"
      ],
      "execution_count": 50,
      "outputs": []
    },
    {
      "cell_type": "code",
      "metadata": {
        "id": "eAUTD8aUGLJW"
      },
      "source": [
        "def plot_board(env, pi, showtext=True, verbose=True, fontq=20, fontx=60):\n",
        "    clear_output(wait=True)\n",
        "    '''Рисуем доску с оценками из стратегии pi'''\n",
        "    fig, ax = plt.subplots(1, 1, figsize=(8, 8))\n",
        "    X, Y = np.meshgrid(np.arange(0, env.n_rows), np.arange(0, env.n_rows))\n",
        "    Z = np.zeros((env.n_rows, env.n_cols)) + .01\n",
        "    s, actions = env.getHash(), env.getEmptySpaces()\n",
        "    if pi is not None and s in pi.Q:\n",
        "        for i, a in enumerate(actions):\n",
        "            Z[a[0], a[1]] = pi.Q[s][i]\n",
        "    ax.set_xticks([])\n",
        "    ax.set_yticks([])\n",
        "    surf = ax.imshow(Z, cmap=plt.get_cmap('Accent', 10), vmin=-1, vmax=1)\n",
        "    if showtext:\n",
        "        for i,a in enumerate(actions):\n",
        "            if pi is not None and s in pi.Q:\n",
        "                ax.text( a[1] , a[0] , \"%.3f\" % pi.Q[s][i], fontsize=fontq, horizontalalignment='center', verticalalignment='center', color=\"w\" )\n",
        "#             else:\n",
        "#                 ax.text( a[1] , a[0] , \"???\", fontsize=fontq, horizontalalignment='center', verticalalignment='center', color=\"w\" )\n",
        "    for i in range(env.n_rows):\n",
        "        for j in range(env.n_cols):\n",
        "            if env.board[i, j] == -1:\n",
        "                ax.text(j, i, \"O\", fontsize=fontx, horizontalalignment='center', verticalalignment='center', color=\"w\" )\n",
        "            if env.board[i, j] == 1:\n",
        "                ax.text(j, i, \"X\", fontsize=fontx, horizontalalignment='center', verticalalignment='center', color=\"w\" )\n",
        "    cbar = plt.colorbar(surf, ticks=[0, 1])\n",
        "    ax.grid(False)\n",
        "    plt.show()\n",
        "\n",
        "def get_and_print_move(env, pi, s, actions, random=False, verbose=True, fontq=20, fontx=60):\n",
        "    '''Делаем ход, рисуем доску'''\n",
        "    plot_board(env, pi, fontq=fontq, fontx=fontx)\n",
        "    if verbose and (pi is not None):\n",
        "        if s in pi.Q:\n",
        "            for i,a in enumerate(actions):\n",
        "                print(i, a, pi.Q[s][i])\n",
        "        else:\n",
        "            print(\"Стратегия не знает, что делать...\")\n",
        "    if random:\n",
        "        return np.random.randint(len(actions))\n",
        "    else:\n",
        "        return pi.getActionGreedy(s, len(actions))\n",
        "\n",
        "def plot_test_game(env, pi1, pi2, random_crosses=False, random_naughts=True, verbose=True, fontq=20, fontx=60):\n",
        "    '''Играем тестовую партию между стратегиями или со случайными ходами, рисуем ход игры'''\n",
        "    done = False\n",
        "    env.reset()\n",
        "    while not done:\n",
        "        s, actions = env.getHash(), env.getEmptySpaces()\n",
        "        if env.curTurn == 1:\n",
        "            a = get_and_print_move(env, pi1, s, actions, random=random_crosses, verbose=verbose, fontq=fontq, fontx=fontx)\n",
        "        else:\n",
        "            a = get_and_print_move(env, pi2, s, actions, random=random_naughts, verbose=verbose, fontq=fontq, fontx=fontx)\n",
        "        observation, reward, done, info = env.step(actions[a])\n",
        "        if reward == 1:\n",
        "            print(\"Крестики выиграли!\")\n",
        "            plot_board(env, None, showtext=False, fontq=fontq, fontx=fontx)\n",
        "        if reward == -1:\n",
        "            print(\"Нолики выиграли!\")\n",
        "            plot_board(env, None, showtext=False, fontq=fontq, fontx=fontx)\n",
        "            "
      ],
      "execution_count": 51,
      "outputs": []
    },
    {
      "cell_type": "code",
      "metadata": {
        "colab": {
          "base_uri": "https://localhost:8080/",
          "height": 470
        },
        "id": "dsn8EjRXGM2_",
        "outputId": "a02acf80-27bd-4c47-cb69-58c69fd72de1"
      },
      "source": [
        "env = TicTacToe(3)\n",
        "plot_test_game(env, None, None, random_crosses=True, random_naughts=True, verbose=True, fontx=30)"
      ],
      "execution_count": 52,
      "outputs": [
        {
          "output_type": "display_data",
          "data": {
            "image/png": "[encoded data removed]",
            "text/plain": [
              "<Figure size 576x576 with 2 Axes>"
            ]
          },
          "metadata": {
            "tags": [],
            "needs_background": "light"
          }
        }
      ]
    },
    {
      "cell_type": "code",
      "metadata": {
        "id": "8ByANqXfGPrl"
      },
      "source": [
        "from IPython.display import clear_output\n",
        "\n",
        "import pandas as pd\n",
        "import matplotlib.pyplot as plt\n",
        "%matplotlib inline\n",
        "\n",
        "import random\n",
        "from IPython.display import clear_output"
      ],
      "execution_count": 54,
      "outputs": []
    },
    {
      "cell_type": "markdown",
      "metadata": {
        "id": "V7wP0v1mGVSN"
      },
      "source": [
        "### 3. Реализуйте DQN с нейронной сетью, обучите стратегии крестиков и ноликов. \n",
        "\n",
        "Замечание: скорее всего, experience replay потребуется сразу же."
      ]
    },
    {
      "cell_type": "code",
      "metadata": {
        "id": "t01WnMiHKQaY"
      },
      "source": [
        "class TicTacDQNetwork(nn.Module):\n",
        "    def __init__(self, board_size = 5, padding_size = 2):\n",
        "        self.board_size = board_size\n",
        "        nn.Module.__init__(self)\n",
        "        self.conv1 = torch.nn.Conv2d(1, 16, board_size, \n",
        "                                     padding=(padding_size, padding_size))\n",
        "        self.conv2 = torch.nn.Conv2d(16, 3, board_size, \n",
        "                                     padding=(padding_size, padding_size))\n",
        "        self.l1 = nn.Linear(board_size * board_size * 3, board_size * board_size)\n",
        "\n",
        "    def forward(self, x):\n",
        "        # print(x)\n",
        "        x = F.relu(self.conv1(x))\n",
        "        x = F.relu(self.conv2(x))\n",
        "        x = self.l1(x.view(-1, self.board_size * self.board_size * 3))\n",
        "        return x"
      ],
      "execution_count": 115,
      "outputs": []
    },
    {
      "cell_type": "code",
      "metadata": {
        "id": "Bbl34DKqGgdn"
      },
      "source": [
        "class TicTacDQN():\n",
        "    def __init__(self, board_size, padding_size = 2):\n",
        "        self.board_size = board_size\n",
        "        self.env = TicTacToe(board_size)\n",
        "        self.model = TicTacDQNetwork(board_size, padding_size)\n",
        "        self.memory = ReplayMemory(10_000)\n",
        "        self.optimizer = optim.Adam(self.model.parameters(), 0.001)\n",
        "        self.steps_done = 0\n",
        "        self.episode_durations = []\n",
        "        \n",
        "        self.gamma = 0.8\n",
        "        self.batch_size = 64\n",
        "        \n",
        "        self.eps_init, self.eps_final, self.eps_decay = 0.9, 0.05, 200\n",
        "        self.num_step = 0\n",
        "        self.rewards = []\n",
        "\n",
        "    def select_greedy_action(self, state):\n",
        "        return self.model(state).data.max(1)[1].view(1, 1)\n",
        "\n",
        "    def select_action(self, state):\n",
        "        sample = random.random()\n",
        "        self.num_step += 1\n",
        "        eps_threshold = self.eps_final + (self.eps_init - self.eps_final) * math.exp(-1. * self.num_step / self.eps_decay)\n",
        "        if sample > eps_threshold:\n",
        "            return self.select_greedy_action(state)\n",
        "        else:\n",
        "            return torch.tensor([[random.randrange(self.board_size * self.board_size)]], dtype=torch.int64)\n",
        "        \n",
        "    def run_episode(self, e=0, do_learning=True, greedy=False):\n",
        "        state, reward, done, info  = self.env.reset_rand()\n",
        "        num_step = 0\n",
        "        while True:\n",
        "            state_tensor = torch.tensor(state,\n",
        "                                dtype=torch.float32)\\\n",
        "                            .reshape(1, 1, self.board_size, self.board_size)\n",
        "            with torch.no_grad():\n",
        "                if greedy:\n",
        "                    action = self.select_greedy_action(state_tensor)\n",
        "                else:\n",
        "                    action = self.select_action(state_tensor)\n",
        "                    \n",
        "            next_state, reward, done, _ = self.env.step_random(action.numpy()[0][0])\n",
        "            next_state_tensor = torch.tensor(next_state, dtype=torch.float32).reshape(1, 1, self.board_size, self.board_size)\n",
        "\n",
        "            transition = (state_tensor, action, next_state_tensor,\n",
        "                          torch.tensor([reward], dtype=torch.float32))\n",
        "            self.memory.store(transition)\n",
        "\n",
        "            if do_learning:\n",
        "                self.learn()\n",
        "\n",
        "            state = next_state\n",
        "            num_step += 1\n",
        "\n",
        "            if done:\n",
        "                self.episode_durations.append(num_step)\n",
        "                self.rewards.append(reward)\n",
        "                break\n",
        "\n",
        "    #here\n",
        "    def learn(self):\n",
        "        if len(self.memory) < self.batch_size:\n",
        "            return\n",
        "\n",
        "        # берём мини-батч из памяти\n",
        "        transitions = self.memory.sample(self.batch_size)\n",
        "        batch_state, batch_action, batch_next_state, batch_reward =\\\n",
        "                                                            zip(*transitions)\n",
        "\n",
        "        batch_state = Variable(torch.cat(batch_state))\n",
        "        batch_action = Variable(torch.cat(batch_action))\n",
        "        batch_reward = Variable(torch.cat(batch_reward))\n",
        "        batch_next_state = Variable(torch.cat(batch_next_state))\n",
        "\n",
        "        # считаем значения функции Q\n",
        "        Q = self.model(batch_state)\\\n",
        "                    .gather(1, batch_action).reshape([self.batch_size])\n",
        "\n",
        "        # оцениваем ожидаемые значения после этого действия\n",
        "        Qmax = self.model(batch_next_state).detach().max(1)[0]\n",
        "        Qnext = batch_reward + (self.gamma * Qmax)\n",
        "\n",
        "        # и хотим, чтобы Q было похоже на Qnext -- это и есть суть Q-обучения\n",
        "        loss = F.smooth_l1_loss(Q, Qnext)\n",
        "\n",
        "        self.optimizer.zero_grad()\n",
        "        loss.backward()\n",
        "        self.optimizer.step()"
      ],
      "execution_count": 116,
      "outputs": []
    },
    {
      "cell_type": "markdown",
      "metadata": {
        "id": "IZR-TYhiLNSO"
      },
      "source": [
        "#### 3x3 "
      ]
    },
    {
      "cell_type": "code",
      "metadata": {
        "id": "pvtJ09rVrXJZ"
      },
      "source": [
        "tictac_dqn = TicTacDQN(3, 1)"
      ],
      "execution_count": 119,
      "outputs": []
    },
    {
      "cell_type": "code",
      "metadata": {
        "id": "tx_Q8qw5o3AR"
      },
      "source": [
        "wins = []\n",
        "for i in tqdm(range(10)):\n",
        "    tictac_dqn.run_episode(e=0, greedy=True, do_learning=False)\n",
        "    reward = tictac_dqn.rewards[-1]\n",
        "    wins.append(reward)"
      ],
      "execution_count": 5,
      "outputs": []
    },
    {
      "cell_type": "code",
      "metadata": {
        "colab": {
          "base_uri": "https://localhost:8080/"
        },
        "id": "rcmJi6hApbOO",
        "outputId": "bc7068c3-2db4-472d-94b9-ea2fa01ddd55"
      },
      "source": [
        "for i in tqdm(range(10_000)):\n",
        "    tictac_dqn.run_episode(e=0.04)  "
      ],
      "execution_count": 121,
      "outputs": [
        {
          "output_type": "stream",
          "text": [
            "100%|██████████| 10000/10000 [02:10<00:00, 76.37it/s]\n"
          ],
          "name": "stderr"
        }
      ]
    },
    {
      "cell_type": "code",
      "metadata": {
        "colab": {
          "base_uri": "https://localhost:8080/",
          "height": 284
        },
        "id": "040HIovGo1nM",
        "outputId": "a33b44f6-17ff-4c3f-e131-15fd3822e1f0"
      },
      "source": [
        "pd.Series(tictac_dqn.rewards).rolling(500).mean().plot()"
      ],
      "execution_count": 122,
      "outputs": [
        {
          "output_type": "execute_result",
          "data": {
            "text/plain": [
              "<matplotlib.axes._subplots.AxesSubplot at 0x7fde2d424630>"
            ]
          },
          "metadata": {
            "tags": []
          },
          "execution_count": 122
        },
        {
          "output_type": "display_data",
          "data": {
            "image/png": "[encoded data removed]",
            "text/plain": [
              "<Figure size 432x288 with 1 Axes>"
            ]
          },
          "metadata": {
            "tags": [],
            "needs_background": "light"
          }
        }
      ]
    },
    {
      "cell_type": "code",
      "metadata": {
        "id": "qhwV4_T8zEXC"
      },
      "source": [
        "wins = []\n",
        "for i in tqdm(range(1000)):\n",
        "    tictac_dqn.run_episode(e=0, greedy=True, do_learning=False)\n",
        "    reward = tictac_dqn.rewards[-1]\n",
        "    wins.append(reward)"
      ],
      "execution_count": 4,
      "outputs": []
    },
    {
      "cell_type": "code",
      "metadata": {
        "colab": {
          "base_uri": "https://localhost:8080/"
        },
        "id": "UHzWIztNzJTu",
        "outputId": "4209d981-ab3c-4fe9-bae2-6e3b4550d26a"
      },
      "source": [
        "import numpy as np\n",
        "np.mean(wins)"
      ],
      "execution_count": 124,
      "outputs": [
        {
          "output_type": "execute_result",
          "data": {
            "text/plain": [
              "0.842"
            ]
          },
          "metadata": {
            "tags": []
          },
          "execution_count": 124
        }
      ]
    },
    {
      "cell_type": "markdown",
      "metadata": {
        "id": "Ns-Tk9JhLJRX"
      },
      "source": [
        "#### 5x5 "
      ]
    },
    {
      "cell_type": "code",
      "metadata": {
        "id": "7g019NSnGjV1"
      },
      "source": [
        "tictac_dqn = TicTacDQN(5, 2)"
      ],
      "execution_count": 125,
      "outputs": []
    },
    {
      "cell_type": "code",
      "metadata": {
        "id": "tDWmI9BkGp3f"
      },
      "source": [
        "wins = []\n",
        "for i in tqdm(range(1000)):\n",
        "    tictac_dqn.run_episode(e=0, greedy=True, do_learning=False)\n",
        "    reward = tictac_dqn.rewards[-1]\n",
        "    wins.append(reward)"
      ],
      "execution_count": 6,
      "outputs": []
    },
    {
      "cell_type": "code",
      "metadata": {
        "colab": {
          "base_uri": "https://localhost:8080/"
        },
        "id": "Xn0kRieyHyOh",
        "outputId": "5fca9abc-1552-42b9-a55f-361122f92a6f"
      },
      "source": [
        "for i in tqdm(range(10_000)):\n",
        "    tictac_dqn.run_episode(e=0.04)  "
      ],
      "execution_count": 127,
      "outputs": [
        {
          "output_type": "stream",
          "text": [
            "100%|██████████| 10000/10000 [06:58<00:00, 23.88it/s]\n"
          ],
          "name": "stderr"
        }
      ]
    },
    {
      "cell_type": "code",
      "metadata": {
        "colab": {
          "base_uri": "https://localhost:8080/",
          "height": 284
        },
        "id": "JeqxqSlNIBkS",
        "outputId": "bcb0ccd9-46ca-44e3-9288-0ecbe415acba"
      },
      "source": [
        "pd.Series(tictac_dqn.rewards).rolling(500).mean().plot()"
      ],
      "execution_count": 128,
      "outputs": [
        {
          "output_type": "execute_result",
          "data": {
            "text/plain": [
              "<matplotlib.axes._subplots.AxesSubplot at 0x7fde37ff5b38>"
            ]
          },
          "metadata": {
            "tags": []
          },
          "execution_count": 128
        },
        {
          "output_type": "display_data",
          "data": {
            "image/png": "[encoded data removed]",
            "text/plain": [
              "<Figure size 432x288 with 1 Axes>"
            ]
          },
          "metadata": {
            "tags": [],
            "needs_background": "light"
          }
        }
      ]
    },
    {
      "cell_type": "code",
      "metadata": {
        "id": "KsJPe0ZyIEH8"
      },
      "source": [
        "wins = []\n",
        "for i in tqdm(range(1000)):\n",
        "    tictac_dqn.run_episode(e=0, greedy=True, do_learning=False)\n",
        "    reward = tictac_dqn.rewards[-1]\n",
        "    wins.append(reward)\n"
      ],
      "execution_count": 7,
      "outputs": []
    },
    {
      "cell_type": "code",
      "metadata": {
        "colab": {
          "base_uri": "https://localhost:8080/"
        },
        "id": "5S9FZqdpIWhv",
        "outputId": "2db1a87c-498e-4530-e9b9-4a31348f749a"
      },
      "source": [
        "import numpy as np\n",
        "np.mean(wins)"
      ],
      "execution_count": 130,
      "outputs": [
        {
          "output_type": "execute_result",
          "data": {
            "text/plain": [
              "0.7"
            ]
          },
          "metadata": {
            "tags": []
          },
          "execution_count": 130
        }
      ]
    },
    {
      "cell_type": "markdown",
      "metadata": {
        "id": "4ZAH4mQVNkCK"
      },
      "source": [
        "### 4. Реализуйте Dueling DQN."
      ]
    },
    {
      "cell_type": "markdown",
      "metadata": {
        "id": "PslUKLu7RJ6Z"
      },
      "source": [
        "via https://towardsdatascience.com/dueling-deep-q-networks-81ffab672751"
      ]
    },
    {
      "cell_type": "code",
      "metadata": {
        "id": "2l-l2RMgNjie"
      },
      "source": [
        "class TicTacDuelingDQNetwork(nn.Module):\n",
        "    def __init__(self, board_size):\n",
        "        super(TicTacDuelingDQNetwork, self).__init__()\n",
        "        \n",
        "        self.board_size = board_size\n",
        "        \n",
        "        self.conv = nn.Sequential(\n",
        "            nn.Conv2d(1, 5, kernel_size=3, stride=1, padding=1),\n",
        "            nn.ReLU(),\n",
        "            nn.Conv2d(5, 3, kernel_size=3, stride=1, padding=1),\n",
        "            nn.ReLU()\n",
        "        )\n",
        "        \n",
        "        self.fc_input_dim = self.feature_size()\n",
        "        \n",
        "        self.value_stream = nn.Sequential(\n",
        "            nn.Linear(self.fc_input_dim, 128),\n",
        "            nn.ReLU(),\n",
        "            nn.Linear(128, 1)\n",
        "        )\n",
        "\n",
        "        self.advantage_stream = nn.Sequential(\n",
        "            nn.Linear(self.fc_input_dim, 128),\n",
        "            nn.ReLU(),\n",
        "            nn.Linear(128, self.board_size * self.board_size)\n",
        "        )\n",
        "\n",
        "    def forward(self, state):\n",
        "        features = self.conv(state)\n",
        "        features = features.view(features.size(0), -1)\n",
        "        values = self.value_stream(features)\n",
        "        advantages = self.advantage_stream(features)\n",
        "        qvals = values + (advantages - advantages.mean())\n",
        "        return qvals\n",
        "\n",
        "    def feature_size(self):\n",
        "        return self.conv(torch.zeros(1, 1, self.board_size, self.board_size)).view(1, -1).size(1)"
      ],
      "execution_count": 131,
      "outputs": []
    },
    {
      "cell_type": "code",
      "metadata": {
        "id": "xsllHmi6MRvw"
      },
      "source": [
        "class TicTacDuelingDQN():\n",
        "    def __init__(self, board_size):\n",
        "        self.board_size = board_size\n",
        "        self.env = TicTacToe(board_size)\n",
        "        self.model = TicTacDuelingDQNetwork(board_size)\n",
        "        self.memory = ReplayMemory(10_000)\n",
        "        self.optimizer = optim.Adam(self.model.parameters(), 0.001)\n",
        "        self.steps_done = 0\n",
        "        self.episode_durations = []\n",
        "        \n",
        "        self.gamma = 0.8\n",
        "        self.batch_size = 64\n",
        "        \n",
        "        self.eps_init, self.eps_final, self.eps_decay = 0.9, 0.05, 200\n",
        "        self.num_step = 0\n",
        "        self.rewards = []\n",
        "\n",
        "    def select_greedy_action(self, state):\n",
        "        return self.model(state).data.max(1)[1].view(1, 1)\n",
        "    \n",
        "    def select_action(self, state):\n",
        "        sample = random.random()\n",
        "        self.num_step += 1\n",
        "        eps_threshold = self.eps_final + (self.eps_init - self.eps_final) * math.exp(-1. * self.num_step / self.eps_decay)\n",
        "        if sample > eps_threshold:\n",
        "            return self.select_greedy_action(state)\n",
        "        else:\n",
        "            return torch.tensor([[random.randrange(self.board_size * self.board_size)]], dtype=torch.int64)\n",
        "        \n",
        "    def run_episode(self, e=0, do_learning=True, greedy=False):\n",
        "        state, reward, done, info  = self.env.reset_rand()\n",
        "        num_step = 0\n",
        "        while True:\n",
        "\n",
        "            state_tensor = torch.tensor(state, \n",
        "                                dtype=torch.float32)\\\n",
        "                            .reshape(1,1,self.board_size, self.board_size)\n",
        "            with torch.no_grad():\n",
        "                if greedy:\n",
        "                    action = self.select_greedy_action(state_tensor)\n",
        "                else:\n",
        "                    action = self.select_action(state_tensor)\n",
        "                    \n",
        "            next_state, reward, done, _ = self.env.step_random(action.numpy()[0][0])\n",
        "            next_state_tensor = torch.tensor(next_state, dtype=torch.float32).reshape(1,1,self.board_size, self.board_size)\n",
        "\n",
        "            transition = (state_tensor, action, next_state_tensor, torch.tensor([reward], dtype=torch.float32))\n",
        "            self.memory.store(transition)\n",
        "\n",
        "            if do_learning:\n",
        "                self.learn()\n",
        "\n",
        "            state = next_state\n",
        "            num_step += 1\n",
        "\n",
        "            if done:\n",
        "                self.episode_durations.append(num_step)\n",
        "                self.rewards.append(reward)\n",
        "                break\n",
        "\n",
        "    def learn(self):\n",
        "        if len(self.memory) < self.batch_size:\n",
        "            return\n",
        "\n",
        "        # берём мини-батч из памяти\n",
        "        transitions = self.memory.sample(self.batch_size)\n",
        "        batch_state, batch_action, batch_next_state, batch_reward =\\\n",
        "                                                            zip(*transitions)\n",
        "\n",
        "        batch_state = Variable(torch.cat(batch_state))\n",
        "        batch_action = Variable(torch.cat(batch_action))\n",
        "        batch_reward = Variable(torch.cat(batch_reward))\n",
        "        batch_next_state = Variable(torch.cat(batch_next_state))\n",
        "\n",
        "        # считаем значения функции Q\n",
        "        Q = self.model(batch_state)\\\n",
        "                    .gather(1, batch_action).reshape([self.batch_size])\n",
        "\n",
        "        # оцениваем ожидаемые значения после этого действия\n",
        "        Qmax = self.model(batch_next_state).detach().max(1)[0]\n",
        "        Qnext = batch_reward + (self.gamma * Qmax)\n",
        "\n",
        "        # и хотим, чтобы Q было похоже на Qnext -- это и есть суть Q-обучения\n",
        "        loss = F.smooth_l1_loss(Q, Qnext)\n",
        "\n",
        "        self.optimizer.zero_grad()\n",
        "        loss.backward()\n",
        "        self.optimizer.step()"
      ],
      "execution_count": 132,
      "outputs": []
    },
    {
      "cell_type": "code",
      "metadata": {
        "id": "RUJ1EnPhNxjB"
      },
      "source": [
        "tictac_dueldqn = TicTacDuelingDQN(5)"
      ],
      "execution_count": 133,
      "outputs": []
    },
    {
      "cell_type": "code",
      "metadata": {
        "id": "7CdWkSXAOLTJ"
      },
      "source": [
        "wins = []\n",
        "for i in tqdm(range(1000)):\n",
        "    tictac_dueldqn.run_episode(e=0, greedy=True, do_learning=False)\n",
        "    reward = tictac_dueldqn.rewards[-1]\n",
        "    wins.append(reward)"
      ],
      "execution_count": 3,
      "outputs": []
    },
    {
      "cell_type": "code",
      "metadata": {
        "id": "UbN_SgcJONgq"
      },
      "source": [
        "for i in tqdm(range(10_000)):\n",
        "    tictac_dueldqn.run_episode(e=0.05) "
      ],
      "execution_count": 2,
      "outputs": []
    },
    {
      "cell_type": "code",
      "metadata": {
        "colab": {
          "base_uri": "https://localhost:8080/",
          "height": 284
        },
        "id": "sONidsOTOPZP",
        "outputId": "37d14952-e62d-43e8-c399-f3f13f51c53b"
      },
      "source": [
        "pd.Series(tictac_dueldqn.rewards).rolling(100).mean().plot()"
      ],
      "execution_count": 139,
      "outputs": [
        {
          "output_type": "execute_result",
          "data": {
            "text/plain": [
              "<matplotlib.axes._subplots.AxesSubplot at 0x7fde2cc568d0>"
            ]
          },
          "metadata": {
            "tags": []
          },
          "execution_count": 139
        },
        {
          "output_type": "display_data",
          "data": {
            "image/png": "[encoded data removed]",
            "text/plain": [
              "<Figure size 432x288 with 1 Axes>"
            ]
          },
          "metadata": {
            "tags": [],
            "needs_background": "light"
          }
        }
      ]
    },
    {
      "cell_type": "code",
      "metadata": {
        "id": "-6QdH2WIObfn"
      },
      "source": [
        "wins = []\n",
        "for i in tqdm(range(1000)):\n",
        "    tictac_dueldqn.run_episode(e=0, greedy=True, do_learning=False)\n",
        "    reward = tictac_dueldqn.rewards[-1]\n",
        "    wins.append(reward)"
      ],
      "execution_count": 1,
      "outputs": []
    },
    {
      "cell_type": "code",
      "metadata": {
        "colab": {
          "base_uri": "https://localhost:8080/"
        },
        "id": "RHGzxSr1ObdI",
        "outputId": "f28c9b26-8926-4535-f8cc-11760e648356"
      },
      "source": [
        "import numpy as np\n",
        "np.mean(wins)"
      ],
      "execution_count": 141,
      "outputs": [
        {
          "output_type": "execute_result",
          "data": {
            "text/plain": [
              "0.8275"
            ]
          },
          "metadata": {
            "tags": []
          },
          "execution_count": 141
        }
      ]
    },
    {
      "cell_type": "code",
      "metadata": {
        "id": "sz7lF8YORAC5"
      },
      "source": [
        ""
      ],
      "execution_count": null,
      "outputs": []
    }
  ]
}